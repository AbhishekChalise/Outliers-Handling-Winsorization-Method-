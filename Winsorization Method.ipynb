{
 "cells": [
  {
   "cell_type": "code",
   "execution_count": 1,
   "id": "043884d2-c24a-4649-9b18-f3874827c86b",
   "metadata": {},
   "outputs": [],
   "source": [
    "import numpy as np\n",
    "import pandas as pd\n",
    "import matplotlib.pyplot as plt\n",
    "import seaborn as sns"
   ]
  },
  {
   "cell_type": "code",
   "execution_count": 2,
   "id": "cbe05532-cfa8-49b2-b2bb-8596c17ac99e",
   "metadata": {},
   "outputs": [],
   "source": [
    "data = np.concatenate((np.random.normal(loc = 0,scale = 1,size = 100), np.array([10,11,-8,-9])))\n",
    "df = pd.DataFrame(data,columns=['value'])"
   ]
  },
  {
   "cell_type": "code",
   "execution_count": 3,
   "id": "4abb4476-4f70-4605-acea-92f8dca7f318",
   "metadata": {},
   "outputs": [
    {
     "data": {
      "text/html": [
       "<div>\n",
       "<style scoped>\n",
       "    .dataframe tbody tr th:only-of-type {\n",
       "        vertical-align: middle;\n",
       "    }\n",
       "\n",
       "    .dataframe tbody tr th {\n",
       "        vertical-align: top;\n",
       "    }\n",
       "\n",
       "    .dataframe thead th {\n",
       "        text-align: right;\n",
       "    }\n",
       "</style>\n",
       "<table border=\"1\" class=\"dataframe\">\n",
       "  <thead>\n",
       "    <tr style=\"text-align: right;\">\n",
       "      <th></th>\n",
       "      <th>value</th>\n",
       "    </tr>\n",
       "  </thead>\n",
       "  <tbody>\n",
       "    <tr>\n",
       "      <th>0</th>\n",
       "      <td>1.732236</td>\n",
       "    </tr>\n",
       "    <tr>\n",
       "      <th>1</th>\n",
       "      <td>0.098633</td>\n",
       "    </tr>\n",
       "    <tr>\n",
       "      <th>2</th>\n",
       "      <td>0.296340</td>\n",
       "    </tr>\n",
       "    <tr>\n",
       "      <th>3</th>\n",
       "      <td>-0.041699</td>\n",
       "    </tr>\n",
       "    <tr>\n",
       "      <th>4</th>\n",
       "      <td>-0.772015</td>\n",
       "    </tr>\n",
       "    <tr>\n",
       "      <th>...</th>\n",
       "      <td>...</td>\n",
       "    </tr>\n",
       "    <tr>\n",
       "      <th>99</th>\n",
       "      <td>0.168653</td>\n",
       "    </tr>\n",
       "    <tr>\n",
       "      <th>100</th>\n",
       "      <td>10.000000</td>\n",
       "    </tr>\n",
       "    <tr>\n",
       "      <th>101</th>\n",
       "      <td>11.000000</td>\n",
       "    </tr>\n",
       "    <tr>\n",
       "      <th>102</th>\n",
       "      <td>-8.000000</td>\n",
       "    </tr>\n",
       "    <tr>\n",
       "      <th>103</th>\n",
       "      <td>-9.000000</td>\n",
       "    </tr>\n",
       "  </tbody>\n",
       "</table>\n",
       "<p>104 rows × 1 columns</p>\n",
       "</div>"
      ],
      "text/plain": [
       "         value\n",
       "0     1.732236\n",
       "1     0.098633\n",
       "2     0.296340\n",
       "3    -0.041699\n",
       "4    -0.772015\n",
       "..         ...\n",
       "99    0.168653\n",
       "100  10.000000\n",
       "101  11.000000\n",
       "102  -8.000000\n",
       "103  -9.000000\n",
       "\n",
       "[104 rows x 1 columns]"
      ]
     },
     "execution_count": 3,
     "metadata": {},
     "output_type": "execute_result"
    }
   ],
   "source": [
    "df"
   ]
  },
  {
   "cell_type": "raw",
   "id": "9126f875-f3b7-4376-a2e6-5db68b8e2303",
   "metadata": {},
   "source": [
    " Winsorization Method"
   ]
  },
  {
   "cell_type": "raw",
   "id": "1d504007-1505-443a-84af-30952ec09174",
   "metadata": {},
   "source": [
    " Using Percentlie method for using the Winsorization Method"
   ]
  },
  {
   "cell_type": "code",
   "execution_count": 6,
   "id": "b515ce10-9ffa-4ae9-ba30-3e438bae1c14",
   "metadata": {},
   "outputs": [],
   "source": [
    "fifth_percentile = np.percentile(df['value'],5)"
   ]
  },
  {
   "cell_type": "code",
   "execution_count": 7,
   "id": "9e21761f-340d-4f5e-828a-f611f9e8402a",
   "metadata": {},
   "outputs": [
    {
     "data": {
      "text/plain": [
       "-1.871187101462508"
      ]
     },
     "execution_count": 7,
     "metadata": {},
     "output_type": "execute_result"
    }
   ],
   "source": [
    "fifth_percentile"
   ]
  },
  {
   "cell_type": "raw",
   "id": "1ab2a2d2-e217-42c9-899e-0c793528e0b5",
   "metadata": {},
   "source": [
    "Next Take Ninty Fifth Percentiles"
   ]
  },
  {
   "cell_type": "code",
   "execution_count": 9,
   "id": "5f2d9983-c61f-40e3-b8ad-c496834e4131",
   "metadata": {},
   "outputs": [],
   "source": [
    "Nintyfifth_percentile = np.percentile(df['value'],95)"
   ]
  },
  {
   "cell_type": "code",
   "execution_count": 10,
   "id": "b8f87d22-1229-4629-840f-34821815338a",
   "metadata": {},
   "outputs": [
    {
     "data": {
      "text/plain": [
       "1.6661357894267659"
      ]
     },
     "execution_count": 10,
     "metadata": {},
     "output_type": "execute_result"
    }
   ],
   "source": [
    "Nintyfifth_percentile"
   ]
  },
  {
   "cell_type": "code",
   "execution_count": 11,
   "id": "e92d0b06-45bc-43ee-b9b5-326c01f3ed91",
   "metadata": {},
   "outputs": [
    {
     "data": {
      "text/plain": [
       "<Axes: >"
      ]
     },
     "execution_count": 11,
     "metadata": {},
     "output_type": "execute_result"
    },
    {
     "data": {
      "image/png": "[encoded data removed]",
      "text/plain": [
       "<Figure size 640x480 with 1 Axes>"
      ]
     },
     "metadata": {},
     "output_type": "display_data"
    }
   ],
   "source": [
    "sns.boxplot(df)"
   ]
  },
  {
   "cell_type": "code",
   "execution_count": 12,
   "id": "e28a0cba-11a8-4c5b-82a7-ca6e7b43c445",
   "metadata": {},
   "outputs": [
    {
     "data": {
      "text/html": [
       "<div>\n",
       "<style scoped>\n",
       "    .dataframe tbody tr th:only-of-type {\n",
       "        vertical-align: middle;\n",
       "    }\n",
       "\n",
       "    .dataframe tbody tr th {\n",
       "        vertical-align: top;\n",
       "    }\n",
       "\n",
       "    .dataframe thead th {\n",
       "        text-align: right;\n",
       "    }\n",
       "</style>\n",
       "<table border=\"1\" class=\"dataframe\">\n",
       "  <thead>\n",
       "    <tr style=\"text-align: right;\">\n",
       "      <th></th>\n",
       "      <th>value</th>\n",
       "    </tr>\n",
       "  </thead>\n",
       "  <tbody>\n",
       "    <tr>\n",
       "      <th>0</th>\n",
       "      <td>1.732236</td>\n",
       "    </tr>\n",
       "    <tr>\n",
       "      <th>1</th>\n",
       "      <td>0.098633</td>\n",
       "    </tr>\n",
       "    <tr>\n",
       "      <th>2</th>\n",
       "      <td>0.296340</td>\n",
       "    </tr>\n",
       "    <tr>\n",
       "      <th>3</th>\n",
       "      <td>-0.041699</td>\n",
       "    </tr>\n",
       "    <tr>\n",
       "      <th>4</th>\n",
       "      <td>-0.772015</td>\n",
       "    </tr>\n",
       "    <tr>\n",
       "      <th>...</th>\n",
       "      <td>...</td>\n",
       "    </tr>\n",
       "    <tr>\n",
       "      <th>99</th>\n",
       "      <td>0.168653</td>\n",
       "    </tr>\n",
       "    <tr>\n",
       "      <th>100</th>\n",
       "      <td>10.000000</td>\n",
       "    </tr>\n",
       "    <tr>\n",
       "      <th>101</th>\n",
       "      <td>11.000000</td>\n",
       "    </tr>\n",
       "    <tr>\n",
       "      <th>102</th>\n",
       "      <td>-8.000000</td>\n",
       "    </tr>\n",
       "    <tr>\n",
       "      <th>103</th>\n",
       "      <td>-9.000000</td>\n",
       "    </tr>\n",
       "  </tbody>\n",
       "</table>\n",
       "<p>104 rows × 1 columns</p>\n",
       "</div>"
      ],
      "text/plain": [
       "         value\n",
       "0     1.732236\n",
       "1     0.098633\n",
       "2     0.296340\n",
       "3    -0.041699\n",
       "4    -0.772015\n",
       "..         ...\n",
       "99    0.168653\n",
       "100  10.000000\n",
       "101  11.000000\n",
       "102  -8.000000\n",
       "103  -9.000000\n",
       "\n",
       "[104 rows x 1 columns]"
      ]
     },
     "execution_count": 12,
     "metadata": {},
     "output_type": "execute_result"
    }
   ],
   "source": [
    "df"
   ]
  },
  {
   "cell_type": "code",
   "execution_count": 13,
   "id": "b78a037c-96d0-4170-802b-6d8a276ca47e",
   "metadata": {},
   "outputs": [],
   "source": [
    "# Where function in numpy is the nested if else statement numpy.where and \n",
    "# There is another one which is numpy.apply which is used to apply function to each rows is the python\n",
    "\n",
    "df['removed_outliers'] =  np.where(\n",
    "    (df['value'] >= fifth_percentile) & (df['value'] <= Nintyfifth_percentile) , df['value'],\n",
    "    np.where(\n",
    "        df['value'] <= fifth_percentile , fifth_percentile,\n",
    "        Nintyfifth_percentile\n",
    "    )\n",
    ")"
   ]
  },
  {
   "cell_type": "code",
   "execution_count": 14,
   "id": "bad45e11-028a-40f3-b2bb-37c08601d3bf",
   "metadata": {},
   "outputs": [
    {
     "data": {
      "text/html": [
       "<div>\n",
       "<style scoped>\n",
       "    .dataframe tbody tr th:only-of-type {\n",
       "        vertical-align: middle;\n",
       "    }\n",
       "\n",
       "    .dataframe tbody tr th {\n",
       "        vertical-align: top;\n",
       "    }\n",
       "\n",
       "    .dataframe thead th {\n",
       "        text-align: right;\n",
       "    }\n",
       "</style>\n",
       "<table border=\"1\" class=\"dataframe\">\n",
       "  <thead>\n",
       "    <tr style=\"text-align: right;\">\n",
       "      <th></th>\n",
       "      <th>value</th>\n",
       "      <th>removed_outliers</th>\n",
       "    </tr>\n",
       "  </thead>\n",
       "  <tbody>\n",
       "    <tr>\n",
       "      <th>0</th>\n",
       "      <td>1.732236</td>\n",
       "      <td>1.666136</td>\n",
       "    </tr>\n",
       "    <tr>\n",
       "      <th>1</th>\n",
       "      <td>0.098633</td>\n",
       "      <td>0.098633</td>\n",
       "    </tr>\n",
       "    <tr>\n",
       "      <th>2</th>\n",
       "      <td>0.296340</td>\n",
       "      <td>0.296340</td>\n",
       "    </tr>\n",
       "    <tr>\n",
       "      <th>3</th>\n",
       "      <td>-0.041699</td>\n",
       "      <td>-0.041699</td>\n",
       "    </tr>\n",
       "    <tr>\n",
       "      <th>4</th>\n",
       "      <td>-0.772015</td>\n",
       "      <td>-0.772015</td>\n",
       "    </tr>\n",
       "    <tr>\n",
       "      <th>...</th>\n",
       "      <td>...</td>\n",
       "      <td>...</td>\n",
       "    </tr>\n",
       "    <tr>\n",
       "      <th>99</th>\n",
       "      <td>0.168653</td>\n",
       "      <td>0.168653</td>\n",
       "    </tr>\n",
       "    <tr>\n",
       "      <th>100</th>\n",
       "      <td>10.000000</td>\n",
       "      <td>1.666136</td>\n",
       "    </tr>\n",
       "    <tr>\n",
       "      <th>101</th>\n",
       "      <td>11.000000</td>\n",
       "      <td>1.666136</td>\n",
       "    </tr>\n",
       "    <tr>\n",
       "      <th>102</th>\n",
       "      <td>-8.000000</td>\n",
       "      <td>-1.871187</td>\n",
       "    </tr>\n",
       "    <tr>\n",
       "      <th>103</th>\n",
       "      <td>-9.000000</td>\n",
       "      <td>-1.871187</td>\n",
       "    </tr>\n",
       "  </tbody>\n",
       "</table>\n",
       "<p>104 rows × 2 columns</p>\n",
       "</div>"
      ],
      "text/plain": [
       "         value  removed_outliers\n",
       "0     1.732236          1.666136\n",
       "1     0.098633          0.098633\n",
       "2     0.296340          0.296340\n",
       "3    -0.041699         -0.041699\n",
       "4    -0.772015         -0.772015\n",
       "..         ...               ...\n",
       "99    0.168653          0.168653\n",
       "100  10.000000          1.666136\n",
       "101  11.000000          1.666136\n",
       "102  -8.000000         -1.871187\n",
       "103  -9.000000         -1.871187\n",
       "\n",
       "[104 rows x 2 columns]"
      ]
     },
     "execution_count": 14,
     "metadata": {},
     "output_type": "execute_result"
    }
   ],
   "source": [
    "df"
   ]
  },
  {
   "cell_type": "code",
   "execution_count": 15,
   "id": "9742fecf-79d6-431e-a0b2-38991d9cdb45",
   "metadata": {},
   "outputs": [],
   "source": [
    "# So in percentile method we remove the outlies we actually dont remove outliers but what actually we do is just that convert the outliers into maximum possible values"
   ]
  },
  {
   "cell_type": "code",
   "execution_count": 16,
   "id": "e922489b-f676-4a78-b306-9391ada4419e",
   "metadata": {},
   "outputs": [
    {
     "data": {
      "text/plain": [
       "0      1.666136\n",
       "1      0.098633\n",
       "2      0.296340\n",
       "3     -0.041699\n",
       "4     -0.772015\n",
       "         ...   \n",
       "99     0.168653\n",
       "100    1.666136\n",
       "101    1.666136\n",
       "102   -1.871187\n",
       "103   -1.871187\n",
       "Name: removed_outliers, Length: 104, dtype: float64"
      ]
     },
     "execution_count": 16,
     "metadata": {},
     "output_type": "execute_result"
    }
   ],
   "source": [
    "df['removed_outliers']"
   ]
  },
  {
   "cell_type": "code",
   "execution_count": 17,
   "id": "7655c960-47e2-47b3-883d-c9ee386a4164",
   "metadata": {},
   "outputs": [
    {
     "data": {
      "text/plain": [
       "<Axes: >"
      ]
     },
     "execution_count": 17,
     "metadata": {},
     "output_type": "execute_result"
    },
    {
     "data": {
      "image/png": "[encoded data removed]",
      "text/plain": [
       "<Figure size 640x480 with 1 Axes>"
      ]
     },
     "metadata": {},
     "output_type": "display_data"
    }
   ],
   "source": [
    "sns.boxplot(df['removed_outliers'])"
   ]
  },
  {
   "cell_type": "code",
   "execution_count": null,
   "id": "2fcf1313-8e6e-4e76-933b-27f66304788d",
   "metadata": {},
   "outputs": [],
   "source": []
  }
 ],
 "metadata": {
  "kernelspec": {
   "display_name": "Python 3 (ipykernel)",
   "language": "python",
   "name": "python3"
  },
  "language_info": {
   "codemirror_mode": {
    "name": "ipython",
    "version": 3
   },
   "file_extension": ".py",
   "mimetype": "text/x-python",
   "name": "python",
   "nbconvert_exporter": "python",
   "pygments_lexer": "ipython3",
   "version": "3.11.7"
  }
 },
 "nbformat": 4,
 "nbformat_minor": 5
}
